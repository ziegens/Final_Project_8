{
 "cells": [
  {
   "cell_type": "code",
   "execution_count": 1,
   "id": "2846a9af",
   "metadata": {},
   "outputs": [],
   "source": [
    "# Importing sqlite3 and csv packages\n",
    "import sqlite3\n",
    "import csv\n",
    "\n",
    "# Creating connection to the database\n",
    "con = sqlite3.connect('employees.db')\n",
    "cursor = con.cursor()\n",
    "\n",
    "# Creating the table structure\n",
    "create_table = \"\"\"CREATE TABLE IF NOT EXISTS employee(\n",
    "                    EMPLOYEE_ID INTEGER,\n",
    "                    FIRST_NAME VARCHAR(20),\n",
    "                    LAST_NAME VARCHAR(20),\n",
    "                    EMAIL VARCHAR(20),\n",
    "                    PHONE_NUMBER VARCHAR(20),\n",
    "                    HIRE_DATE DATE,\n",
    "                    JOB_ID VARCHAR(20),\n",
    "                    SALARY INTEGER,\n",
    "                    COMMISSION_PCT DECIMAL(5,2),\n",
    "                    MANAGER_ID INTEGER,\n",
    "                    DEPARTMENT_ID INTEGER);\"\"\"\n",
    "\n",
    "# Executing the command\n",
    "cursor.execute(create_table)\n",
    "\n",
    "# Reading the data from CSV file using csv package\n",
    "from pathlib import Path\n",
    "\n",
    "current_directory = Path.cwd()\n",
    "\n",
    "csv_file = 'employees.csv'\n",
    "\n",
    "file_path = current_directory / csv_file\n",
    "\n",
    "\n",
    "with open(file_path, 'r') as f:\n",
    "    original_file = csv.reader(f)\n",
    "    for row in original_file:\n",
    "        if row[0] == \"EMPLOYEE_ID\":\n",
    "            continue\n",
    "        cursor.execute(\"INSERT INTO employee VALUES (?, ?, ?, ?, ?, ?, ?, ?, ?, ?, ?)\", (row[0], row[1],row[2], row[3],row[4], row[5],row[6], row[7],row[8], row[9],row[10]))\n",
    "\n",
    "# Data cleaning - Dropping unwanted columns\n",
    "alter1 = cursor.execute(\"ALTER TABLE employee DROP EMAIL\")\n",
    "alter2 = cursor.execute(\"ALTER TABLE employee DROP PHONE_NUMBER\")\n",
    "alter3 = cursor.execute(\"ALTER TABLE employee DROP COMMISSION_PCT\")\n",
    "\n",
    "# After dropping 3 columns from the total of 11 columns, we have 8 columns\n",
    "headings = [\"Employee_ID\",\"First_name\",\"Last_name\",\"Hire_Date\",\"Job_ID\",\"Salary\",\"Manager_ID\",\"Department_ID\"]\n",
    "data = cursor.execute(\"SELECT * FROM employee LIMIT 7\").fetchall()\n",
    "\n",
    "# Commit the transaction to save changes\n",
    "con.commit()\n",
    "\n",
    "# Close the cursor and connection\n",
    "cursor.close()\n",
    "con.close()\n"
   ]
  },
  {
   "cell_type": "code",
   "execution_count": null,
   "id": "295ecc3e",
   "metadata": {},
   "outputs": [],
   "source": []
  }
 ],
 "metadata": {
  "kernelspec": {
   "display_name": "Python 3 (ipykernel)",
   "language": "python",
   "name": "python3"
  },
  "language_info": {
   "codemirror_mode": {
    "name": "ipython",
    "version": 3
   },
   "file_extension": ".py",
   "mimetype": "text/x-python",
   "name": "python",
   "nbconvert_exporter": "python",
   "pygments_lexer": "ipython3",
   "version": "3.12.3"
  }
 },
 "nbformat": 4,
 "nbformat_minor": 5
}
